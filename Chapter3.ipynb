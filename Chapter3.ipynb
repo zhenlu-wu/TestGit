{
  "nbformat": 4,
  "nbformat_minor": 0,
  "metadata": {
    "colab": {
      "name": "Chapter3.ipynb",
      "version": "0.3.2",
      "provenance": [],
      "collapsed_sections": [],
      "include_colab_link": true
    },
    "kernelspec": {
      "name": "python3",
      "display_name": "Python 3"
    }
  },
  "cells": [
    {
      "cell_type": "markdown",
      "metadata": {
        "id": "view-in-github",
        "colab_type": "text"
      },
      "source": [
        "<a href=\"https://colab.research.google.com/github/zhenlu-wu/TestGit/blob/master/Chapter3.ipynb\" target=\"_parent\"><img src=\"https://colab.research.google.com/assets/colab-badge.svg\" alt=\"Open In Colab\"/></a>"
      ]
    },
    {
      "cell_type": "markdown",
      "metadata": {
        "id": "Ci5evPfFtFA1",
        "colab_type": "text"
      },
      "source": [
        "一些简单的算法和语言结构\n",
        "\n",
        "# 穷举法"
      ]
    },
    {
      "cell_type": "code",
      "metadata": {
        "id": "JG7uE1ePs8xA",
        "colab_type": "code",
        "outputId": "a4d03f06-998b-4bdc-e464-63d0eba379c1",
        "colab": {
          "base_uri": "https://localhost:8080/",
          "height": 50
        }
      },
      "source": [
        "#穷举法 例如：当一个整数存在立方根，输出它的根；如果没有，则提示没有。\n",
        "\n",
        "#输入一个整数\n",
        "x = int(input('请输入一个整数'))\n",
        "\n",
        "#从1开始寻找x的立方根\n",
        "ans = 0\n",
        "while ans**3 < x:\n",
        "  ans = ans +1\n",
        "print(ans)\n",
        "if ans**3 == x:  \n",
        "  print(str(x) + '的立方根是： '+ str(ans))\n",
        "else:\n",
        "  print(str(x) + '没有立方根' )\n",
        "  "
      ],
      "execution_count": 0,
      "outputs": [
        {
          "output_type": "stream",
          "text": [
            "请输入一个整数-27\n",
            "-27没有立方根\n"
          ],
          "name": "stdout"
        }
      ]
    },
    {
      "cell_type": "markdown",
      "metadata": {
        "id": "Iw9e2zhmx_qh",
        "colab_type": "text"
      },
      "source": [
        "备课：穷举法的思想就是列举所有可能性，找到合适的答案，就想上面的程序，同时我们又遵循大化小的思想，分布求解各种可能性，最终组合。"
      ]
    },
    {
      "cell_type": "code",
      "metadata": {
        "id": "VY_7VeQ3tEy8",
        "colab_type": "code",
        "outputId": "e4c78944-8a48-4c2f-b8ae-1cd6f90ca26e",
        "colab": {
          "base_uri": "https://localhost:8080/",
          "height": 67
        }
      },
      "source": [
        "#以上只能解决正数情况，当输入是一个负数时\n",
        "\n",
        "#输入一个整数，1957816251 或 7406961012236344616\n",
        "x = int(input('请输入一个整数'))\n",
        "\n",
        "#从1开始寻找x的立方根\n",
        "ans = 0\n",
        "while ans**3 < abs(x):\n",
        "  ans = ans +1\n",
        "print(ans)\n",
        "if ans**3 == abs(x):\n",
        "  if x < 0 :\n",
        "      ans = -ans  \n",
        "  print(str(x) + '的立方根是： '+ str(ans))\n",
        "else:\n",
        "  print(str(x) + '没有立方根' )"
      ],
      "execution_count": 0,
      "outputs": [
        {
          "output_type": "stream",
          "text": [
            "请输入一个整数7406961012236344616\n",
            "1949306\n",
            "7406961012236344616的立方根是： 1949306\n"
          ],
          "name": "stdout"
        }
      ]
    },
    {
      "cell_type": "code",
      "metadata": {
        "id": "10ycGnX_icRV",
        "colab_type": "code",
        "colab": {}
      },
      "source": [
        "实际练习：编写一个程序，要求用户输入一个整数，然后输出两个整数root和pwr，满足0 < pwr < 6 ,并且root**pwr等于用户输入的整数。如果不存在这样一对整数，则输出一条消息进行说明。"
      ],
      "execution_count": 0,
      "outputs": []
    },
    {
      "cell_type": "code",
      "metadata": {
        "id": "xKpu6XiztBGv",
        "colab_type": "code",
        "outputId": "4fac6ee4-3c8e-4475-8318-5896e5d250ea",
        "colab": {
          "base_uri": "https://localhost:8080/",
          "height": 53
        }
      },
      "source": [
        "#输入一个整数\n",
        "x = int(input(\"请输入一个整数\"))\n",
        "\n",
        "root = 0\n",
        "#pwr = 1\n",
        "flag = 0  #找到标志c\n",
        "\n",
        "for pwr in range(2,6):\n",
        "  while root**pwr < abs(x):\n",
        "    root = root + 1\n",
        "#    print(root)\n",
        "#    print(pwr)\n",
        "#    print(root**pwr)\n",
        "  if root**pwr == abs(x):\n",
        "    flag = 1\n",
        "    if x < 0: root = -root\n",
        "    break\n",
        "  root =1\n",
        "\n",
        "if flag == 1:\n",
        "  print('root is '+ str(root) + ' and ' + 'pwr is ' + str(pwr))\n",
        "else:\n",
        "  print('There is not root and pwr.')\n",
        "  "
      ],
      "execution_count": 0,
      "outputs": [
        {
          "output_type": "stream",
          "text": [
            "请输入一个整数6\n",
            "There is not root and pwr.\n"
          ],
          "name": "stdout"
        }
      ]
    },
    {
      "cell_type": "markdown",
      "metadata": {
        "id": "3lan0VPVDTaT",
        "colab_type": "text"
      },
      "source": [
        "# for 循环\n",
        "while循环是高度程式化的，使用整数序列进行迭代。python提供了一种语言机制简化这种迭代方式，这就是for循环。\n",
        "\n",
        "```\n",
        "# 此内容为代码格式\n",
        "for variable in sequence:\n",
        "    code block\n",
        "```\n",
        "sequence一般用range()来产生，range接收三个参数：start、stop、step\n",
        "\n",
        "\n",
        "\n"
      ]
    },
    {
      "cell_type": "code",
      "metadata": {
        "id": "SiuQ57b6HIC4",
        "colab_type": "code",
        "outputId": "deff8ef4-3925-4de4-9bc1-7ed1615f5848",
        "colab": {
          "base_uri": "https://localhost:8080/",
          "height": 34
        }
      },
      "source": [
        "sum = 0\n",
        "for c in '123456789':\n",
        "  sum = int(c) + sum\n",
        "print(sum)"
      ],
      "execution_count": 0,
      "outputs": [
        {
          "output_type": "stream",
          "text": [
            "45\n"
          ],
          "name": "stdout"
        }
      ]
    },
    {
      "cell_type": "code",
      "metadata": {
        "id": "08ych-8VONLl",
        "colab_type": "code",
        "outputId": "59d666b2-f362-4048-fc19-667bd08f6575",
        "colab": {
          "base_uri": "https://localhost:8080/",
          "height": 50
        }
      },
      "source": [
        "#输入一串用逗号隔开的浮点数，使用for循环进行求和\n",
        "digital_str = input(\"请输入若干个数值：\")\n",
        "digital_list = digital_str.split(\",\")\n",
        "sum = 0\n",
        "\n",
        "for digtial in digital_list:\n",
        "  sum += float(digtial)\n",
        "  \n",
        "print(sum)\n"
      ],
      "execution_count": 0,
      "outputs": [
        {
          "output_type": "stream",
          "text": [
            "请输入若干个数值：12.1,12.2\n",
            "24.299999999999997\n"
          ],
          "name": "stdout"
        }
      ]
    },
    {
      "cell_type": "markdown",
      "metadata": {
        "id": "L2vJqT8ebkvS",
        "colab_type": "text"
      },
      "source": [
        "## 3.3 近似解和二分查找\n",
        "### 近似解\n",
        "在求一个非负数平方根时，例如2的平方根是一个无理数，是无解的，但是可以找到一个近似值，这个近似值存在于实际解的常数范围内，这个常数我们称为epsilon"
      ]
    },
    {
      "cell_type": "code",
      "metadata": {
        "id": "h1-BtVv1OfW3",
        "colab_type": "code",
        "outputId": "e712f599-38bb-4452-a61e-73f3ee1fd75f",
        "colab": {
          "base_uri": "https://localhost:8080/",
          "height": 246
        }
      },
      "source": [
        "x = float(input('请输入待开方数'))\n",
        "epsilon = 0.01\n",
        "step = epsilon**2\n",
        "numberGuesses = 0\n",
        "ans = 0.0\n",
        "while abs(ans**2 - x) >= epsilon:\n",
        "  ans += step\n",
        "  numberGuesses += 1\n",
        "print('numberGuesses is  ' + str(numberGuesses))\n",
        "print(ans, 'is close suqare root of ', x)"
      ],
      "execution_count": 0,
      "outputs": [
        {
          "output_type": "stream",
          "text": [
            "请输入待开方数790121876544\n"
          ],
          "name": "stdout"
        },
        {
          "output_type": "error",
          "ename": "KeyboardInterrupt",
          "evalue": "ignored",
          "traceback": [
            "\u001b[0;31m---------------------------------------------------------------------------\u001b[0m",
            "\u001b[0;31mKeyboardInterrupt\u001b[0m                         Traceback (most recent call last)",
            "\u001b[0;32m<ipython-input-2-9c9d9f7f01b8>\u001b[0m in \u001b[0;36m<module>\u001b[0;34m()\u001b[0m\n\u001b[1;32m      5\u001b[0m \u001b[0mans\u001b[0m \u001b[0;34m=\u001b[0m \u001b[0;36m0.0\u001b[0m\u001b[0;34m\u001b[0m\u001b[0;34m\u001b[0m\u001b[0m\n\u001b[1;32m      6\u001b[0m \u001b[0;32mwhile\u001b[0m \u001b[0mabs\u001b[0m\u001b[0;34m(\u001b[0m\u001b[0mans\u001b[0m\u001b[0;34m**\u001b[0m\u001b[0;36m2\u001b[0m \u001b[0;34m-\u001b[0m \u001b[0mx\u001b[0m\u001b[0;34m)\u001b[0m \u001b[0;34m>=\u001b[0m \u001b[0mepsilon\u001b[0m\u001b[0;34m:\u001b[0m\u001b[0;34m\u001b[0m\u001b[0;34m\u001b[0m\u001b[0m\n\u001b[0;32m----> 7\u001b[0;31m   \u001b[0mans\u001b[0m \u001b[0;34m+=\u001b[0m \u001b[0mstep\u001b[0m\u001b[0;34m\u001b[0m\u001b[0;34m\u001b[0m\u001b[0m\n\u001b[0m\u001b[1;32m      8\u001b[0m   \u001b[0mnumberGuesses\u001b[0m \u001b[0;34m+=\u001b[0m \u001b[0;36m1\u001b[0m\u001b[0;34m\u001b[0m\u001b[0;34m\u001b[0m\u001b[0m\n\u001b[1;32m      9\u001b[0m \u001b[0mprint\u001b[0m\u001b[0;34m(\u001b[0m\u001b[0;34m'numberGuesses is  '\u001b[0m \u001b[0;34m+\u001b[0m \u001b[0mstr\u001b[0m\u001b[0;34m(\u001b[0m\u001b[0mnumberGuesses\u001b[0m\u001b[0;34m)\u001b[0m\u001b[0;34m)\u001b[0m\u001b[0;34m\u001b[0m\u001b[0;34m\u001b[0m\u001b[0m\n",
            "\u001b[0;31mKeyboardInterrupt\u001b[0m: "
          ]
        }
      ]
    },
    {
      "cell_type": "markdown",
      "metadata": {
        "id": "K5B45cLPkl1W",
        "colab_type": "text"
      },
      "source": [
        "以上是一个穷举法求解近似值，还不完善，但基本能求得近似开方根。现在我们用二分查找法来求这个近似解，大家将会发现效率大大提升。"
      ]
    },
    {
      "cell_type": "code",
      "metadata": {
        "id": "QPpZpr45kk8-",
        "colab_type": "code",
        "outputId": "d426a57c-78f5-4f89-d9d5-1180d44bc60f",
        "colab": {
          "base_uri": "https://localhost:8080/",
          "height": 269
        }
      },
      "source": [
        "x = float(input('请输入待开方数'))\n",
        "epsilon = 0.01\n",
        "# x的方根存在于（0，x/2）,如果在这个区间的中数的平方比x大，则解在（0,x/4）,否则解在（x/4,x/2）\n",
        "# 设定该区间为（low,high）\n",
        "low = 0.0\n",
        "#平方根小于x/2\n",
        "high = x/2\n",
        "#第一次进行二分\n",
        "ans = (low + high)/2\n",
        "numberGuesses = 0\n",
        "#没达到近似值则继续查找\n",
        "while abs(ans**2 - x) >= epsilon:\n",
        "  #如果猜值ans大于x，则区间调整为二分段的前半段\n",
        "  if (ans**2 > x):\n",
        "    high = (low + high)/2\n",
        "    \n",
        "  #否则取后半段  \n",
        "  else:\n",
        "    low = (low + high)/2\n",
        " \n",
        "  ans = (low + high) / 2\n",
        "  print(low, high, ans)\n",
        "  \n",
        "  numberGuesses += 1\n",
        "print(numberGuesses)  \n",
        "print(ans,' is close suqare root of ', x)\n",
        "\n",
        "    \n"
      ],
      "execution_count": 21,
      "outputs": [
        {
          "output_type": "stream",
          "text": [
            "请输入待开方数25\n",
            "0.0 6.25 3.125\n",
            "3.125 6.25 4.6875\n",
            "4.6875 6.25 5.46875\n",
            "4.6875 5.46875 5.078125\n",
            "4.6875 5.078125 4.8828125\n",
            "4.8828125 5.078125 4.98046875\n",
            "4.98046875 5.078125 5.029296875\n",
            "4.98046875 5.029296875 5.0048828125\n",
            "4.98046875 5.0048828125 4.99267578125\n",
            "4.99267578125 5.0048828125 4.998779296875\n",
            "4.998779296875 5.0048828125 5.0018310546875\n",
            "4.998779296875 5.0018310546875 5.00030517578125\n",
            "12\n",
            "5.00030517578125  is close suqare root of  25.0\n"
          ],
          "name": "stdout"
        }
      ]
    },
    {
      "cell_type": "markdown",
      "metadata": {
        "id": "MjjXVynaYRzd",
        "colab_type": "text"
      },
      "source": [
        "## 3.4 关于浮点数\n",
        "计算机是如何表示浮点数的呢？我们知道计算机使用二进制来表示数值，二进制是利用了电气开关属性（开或关）。就像人类有十个手指而喜欢用十进制来表达数值（事实上，十进制的由来要追溯到印度关于数字的起源）。在python中（无论哪种编程语言）都是采用有效数字与指数配合的形式来表示浮点数，例如0.1这个浮点数，当选择四位有效值时为（0011，-101），即3/（2的5次方），也可以表示为5位有效值（11001，-1000），即25/(2的8次方)，因此采用不同有效精度时，表示结果也不同。python版本中，一般采用53位精度来表示浮点数，但是无论采用多少位，都只能近似0.1。试试下面的程序："
      ]
    },
    {
      "cell_type": "code",
      "metadata": {
        "id": "f4X5hnUKrUqo",
        "colab_type": "code",
        "colab": {
          "base_uri": "https://localhost:8080/",
          "height": 202
        },
        "outputId": "4223691b-8162-4bac-b766-003fc5a2f01b"
      },
      "source": [
        "x = 0.0\n",
        "i = 1\n",
        "for i in range(10):\n",
        "  x = x + 0.1\n",
        "  print(x)\n",
        "if x == 1.0:\n",
        "  print('x = 1.0')\n",
        "else:\n",
        "  print(x,'is not 1.0')"
      ],
      "execution_count": 8,
      "outputs": [
        {
          "output_type": "stream",
          "text": [
            "0.1\n",
            "0.2\n",
            "0.30000000000000004\n",
            "0.4\n",
            "0.5\n",
            "0.6\n",
            "0.7\n",
            "0.7999999999999999\n",
            "0.8999999999999999\n",
            "0.9999999999999999\n",
            "0.9999999999999999 is not 1.0\n"
          ],
          "name": "stdout"
        }
      ]
    },
    {
      "cell_type": "markdown",
      "metadata": {
        "id": "oYlFRYPkrznB",
        "colab_type": "text"
      },
      "source": [
        "## 3.5 牛顿-拉佛森法\n",
        "最常用的近似值算法通常被认为出自艾萨克.牛顿之手，称为“牛顿法”，有时也叫“牛顿-拉佛森法”（拉佛森几乎与牛顿同时提出了该方法）。可以用它求解大部分函数的实数根，但我们只用它求单变量多项式的实数根。如果要求解多变量多项式，需要数学和算法两方面的知识。\n",
        "\n",
        "该定理：如果存在一个值guess是多项式p的根的近似值，那么guess - p(guess)/p'(guess)就是一个更好的近似值。\n",
        "\n",
        "测试代码如下：\n",
        "\n",
        "问题：\n",
        "\n",
        "1、guess为什么要先等于k/2呢？我们会发现赋予的值越贴近解，答案越有偏差。\n",
        "\n",
        "2、对比二分法，谁的效率更高呢？\n",
        "\n"
      ]
    },
    {
      "cell_type": "code",
      "metadata": {
        "id": "uDHtFpzN4kT6",
        "colab_type": "code",
        "colab": {
          "base_uri": "https://localhost:8080/",
          "height": 34
        },
        "outputId": "43c9a47a-9c06-4b24-ef36-054f2d9f28e2"
      },
      "source": [
        "#多项式 x**2-24 = 0\n",
        "#利用牛顿-拉佛森法求根\n",
        "epsilon = 0.01\n",
        "k = 25\n",
        "guess = k\n",
        "numberGuesses = 0\n",
        "while (guess**2 - k) >= epsilon:\n",
        "  guess = guess - (guess**2 - k)/(2*guess)\n",
        "  numberGuesses += 1\n",
        "print(numberGuesses, guess)\n"
      ],
      "execution_count": 22,
      "outputs": [
        {
          "output_type": "stream",
          "text": [
            "5 5.000023178253949\n"
          ],
          "name": "stdout"
        }
      ]
    }
  ]
}